{
  "nbformat": 4,
  "nbformat_minor": 0,
  "metadata": {
    "colab": {
      "provenance": []
    },
    "kernelspec": {
      "name": "python3",
      "display_name": "Python 3"
    },
    "language_info": {
      "name": "python"
    }
  },
  "cells": [
    {
      "cell_type": "code",
      "source": [
        "from langchain_huggingface import HuggingFaceEndpoint\n",
        "from langchain import PromptTemplate, LLMChain\n",
        "from google.colab import userdata\n",
        "import os\n",
        "\n",
        "\n",
        "sec_key = userdata.get('HUGGINGFACEHUB_API_TOKEN')\n",
        "os.environ[\"HUGGINGFACEHUB_API_TOKEN\"] = sec_key\n",
        "\n",
        "repo_id = \"meta-llama/Llama-3.2-11B-Vision-Instruct\"\n",
        "llm = HuggingFaceEndpoint(repo_id=repo_id, max_length=128, temperature=0.7, huggingfacehub_api_token=sec_key)\n",
        "\n",
        "\n",
        "def suggest_restaurant(cuisine):\n",
        "    \"\"\"\n",
        "    Suggests a restaurant based on the given cuisine.\n",
        "\n",
        "    Args:\n",
        "    cuisine (str): The type of cuisine desired.\n",
        "\n",
        "    Returns:\n",
        "    str: A restaurant suggestion with popular menu items.\n",
        "    \"\"\"\n",
        "    # Create a prompt for the AI using the imported PromptTemplate\n",
        "    prompt_template = PromptTemplate(\n",
        "        template=\"Suggest a restaurant that serves {cuisine} cuisine and provide some popular menu items.\",\n",
        "        input_variables=[\"cuisine\"]\n",
        "    )\n",
        "\n",
        "    # Using the imported LLMChain and the existing llm instance\n",
        "    chain = LLMChain(llm=llm, prompt=prompt_template)\n",
        "\n",
        "    # Generate the response\n",
        "    response = chain.run({\"cuisine\": cuisine})\n",
        "    return response\n",
        "\n",
        "# Example usage\n",
        "selected_cuisine = \"italian\"\n",
        "suggestion = suggest_restaurant(selected_cuisine)\n",
        "print(\"Restaurant Suggestion:\", suggestion)"
      ],
      "metadata": {
        "colab": {
          "base_uri": "https://localhost:8080/"
        },
        "id": "xNIYFO5ONWXB",
        "outputId": "bf3758b7-6e43-41db-d315-b4251d428b49"
      },
      "execution_count": 5,
      "outputs": [
        {
          "output_type": "stream",
          "name": "stderr",
          "text": [
            "WARNING:langchain_huggingface.llms.huggingface_endpoint:WARNING! max_length is not default parameter.\n",
            "                    max_length was transferred to model_kwargs.\n",
            "                    Please make sure that max_length is what you intended.\n"
          ]
        },
        {
          "output_type": "stream",
          "name": "stdout",
          "text": [
            "The token has not been saved to the git credentials helper. Pass `add_to_git_credential=True` in this function directly or `--add-to-git-credential` if using via `huggingface-cli` if you want to set the git credential as well.\n",
            "Token is valid (permission: read).\n",
            "Your token has been saved to /root/.cache/huggingface/token\n",
            "Login successful\n",
            "Restaurant Suggestion:  Italian cuisine is known for its rich flavors, aromas, and textures. Italian food often features a balance of ingredients, including fresh vegetables, herbs, meats, and cheeses. Some popular Italian dishes include pasta, pizza, risotto, and polenta. Here are some popular menu items at Bella Vita, a fictional Italian restaurant:\n",
            "1. Bruschetta: Grilled bread topped with diced tomatoes, basil, and mozzarella cheese.\n",
            "2. Spaghetti Carbonara: A classic pasta dish made with spaghetti, bacon or pancetta, eggs, parmesan cheese, and black pepper.\n",
            "3. Chicken Parmesan: Breaded and fried chicken topped with marinara sauce and melted mozzarella cheese.\n",
            "4. Lasagna: Layers of pasta, meat sauce, and ricotta cheese, baked until golden brown.\n",
            "5. Fettuccine Alfredo: A rich and creamy pasta dish made with fettuccine, parmesan cheese, and butter.\n",
            "6. Caprese Salad: A simple salad of sliced tomatoes, mozzarella cheese, and basil, dressed with olive oil and balsamic vinegar.\n",
            "7. Risotto alla Milanese: A creamy rice dish made with saffron-infused risotto, beef or veal broth, and parmesan cheese.\n",
            "8. Polenta Fries: Crispy fried polenta sticks served with a side of marinara sauce.\n",
            "9. Tiramisu: A classic Italian dessert made with ladyfingers, mascarpone cheese, and espresso.\n",
            "10. Cannoli: Fried pastry shells filled with sweetened ricotta cheese and chocolate chips.\n",
            "\n",
            "These menu items showcase the diversity and richness of Italian cuisine, with a focus on fresh ingredients, bold flavors, and comforting textures. Buon appetito! Bella Vita offers a variety of options for meat-eaters, vegetarians, and those with dietary restrictions, ensuring that everyone can enjoy a delicious Italian meal. The restaurant's menu is carefully crafted to provide a memorable dining experience, with each dish carefully prepared to showcase the best of Italian cuisine. Whether you're in the mood for a classic pasta dish or a unique dessert, Bella Vita has something for everyone. Buon appetito! The restaurant's atmosphere is warm and inviting, with comfortable seating and a cozy decor that evokes the charm of Italy. The staff is friendly and attentive, ensuring that every guest has a memorable dining experience. Whether you're celebrating a special occasion or just looking for a night out, Bella Vita is the perfect choice for a delicious Italian meal. So why not visit Bella\n"
          ]
        }
      ]
    }
  ]
}